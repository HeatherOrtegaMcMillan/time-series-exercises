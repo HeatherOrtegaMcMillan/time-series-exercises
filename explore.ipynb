{
 "cells": [
  {
   "cell_type": "markdown",
   "id": "a1200761-478c-432e-b67a-a0457a8a4940",
   "metadata": {},
   "source": [
    "# Explore - Time Series\n",
    "Do your work for this exercise in a notebook named explore. Use the techniques in the lesson to explore the *store item demand dataset* and the *opsd dataset*.\n",
    "\n",
    "- For the store item demand data, you will need to choose a method of aggregating such that each observation is a unique date. \n",
    "- For both datasets you should choose a method of splitting your data and only explore the training split."
   ]
  },
  {
   "cell_type": "code",
   "execution_count": 1,
   "id": "5ff753ef-0b1f-45da-a743-f064c657d225",
   "metadata": {},
   "outputs": [],
   "source": [
    "import pandas as pd\n",
    "import numpy as np\n",
    "\n",
    "import prepare as p\n",
    "\n",
    "import seaborn as sns\n",
    "import matplotlib.pyplot as plt"
   ]
  },
  {
   "cell_type": "code",
   "execution_count": null,
   "id": "e3567526-11aa-4fb1-a3c3-f262b83abbe0",
   "metadata": {},
   "outputs": [],
   "source": []
  }
 ],
 "metadata": {
  "kernelspec": {
   "display_name": "Python 3",
   "language": "python",
   "name": "python3"
  },
  "language_info": {
   "codemirror_mode": {
    "name": "ipython",
    "version": 3
   },
   "file_extension": ".py",
   "mimetype": "text/x-python",
   "name": "python",
   "nbconvert_exporter": "python",
   "pygments_lexer": "ipython3",
   "version": "3.8.5"
  }
 },
 "nbformat": 4,
 "nbformat_minor": 5
}
