{
 "cells": [
  {
   "cell_type": "markdown",
   "id": "0c20a2ba-f7b3-4190-9c07-c68ff1f7a391",
   "metadata": {},
   "source": [
    "# Modeling Exercises - Time Series"
   ]
  },
  {
   "cell_type": "code",
   "execution_count": 1,
   "id": "c7eb8ef2-8d7c-41c5-82ac-19b52a7fae31",
   "metadata": {},
   "outputs": [],
   "source": [
    "import pandas as pd\n",
    "import numpy as np\n",
    "\n",
    "# visualize \n",
    "import matplotlib.pyplot as plt\n",
    "%matplotlib inline\n",
    "import seaborn as sns\n",
    "\n",
    "\n",
    "# working with dates\n",
    "from datetime import datetime\n",
    "\n",
    "# to evaluated performance using rmse\n",
    "from sklearn.metrics import mean_squared_error\n",
    "from math import sqrt \n",
    "\n",
    "# for tsa \n",
    "import statsmodels.api as sm\n",
    "\n",
    "# holt's linear trend model. \n",
    "from statsmodels.tsa.api import Holt\n",
    "\n",
    "#custom module\n",
    "import prepare as p\n",
    "import acquire_func as a"
   ]
  },
  {
   "cell_type": "markdown",
   "id": "1d7f1745-553d-49c4-ac93-5dbd4c8a28c3",
   "metadata": {},
   "source": [
    "### Exercises\n",
    "The end result of this exercise should be a Jupyter notebook named `model`.\n",
    "\n",
    "Using [saas.csv](https://ds.codeup.com/saas.csv) or log data from API usage or store_item_sales\n",
    "\n",
    "1. Split data (train/test) and resample by any period, except daily, and aggregate using the sum. \n",
    "2. Forecast, plot and evaluate using each of the 4 parametric based methods we discussed:\n",
    "    - Simple Average\n",
    "    - Moving Average\n",
    "    - Holt's Linear Trend Model\n",
    "    - Based on previous year/month/etc., this is up to you.\n",
    "\n",
    "Optional: Using store item demand\n",
    "\n",
    "1. Predict 2018 total **monthly** sales for a single store and/or item by creating a model using prophet.\n",
    "2. Return a dataframe with the month, store_id, y-hat, and the confidence intervals (y-hat lower, y-hat upper).\n",
    "3. Plot the 2018 monthly sales predictions.\n"
   ]
  },
  {
   "cell_type": "markdown",
   "id": "2fbd5e2d-8643-457d-a536-fb45c51f4ff0",
   "metadata": {},
   "source": [
    "----- \n",
    "SaaS - security as a service\n",
    "\n",
    "Amount - is dollar amount\n",
    "\n",
    "subscription_type - is the subscription type the customer has\n",
    "    \n",
    "    - see if subscription type is always the same dollar amount"
   ]
  },
  {
   "cell_type": "code",
   "execution_count": 3,
   "id": "60973afe-1295-4db1-a075-453b50ee35af",
   "metadata": {},
   "outputs": [],
   "source": [
    "df = pd.read_csv('saas.csv')"
   ]
  },
  {
   "cell_type": "code",
   "execution_count": 4,
   "id": "aaa0dba1-6196-4e06-9323-86b26b1de7e9",
   "metadata": {},
   "outputs": [
    {
     "data": {
      "text/html": [
       "<div>\n",
       "<style scoped>\n",
       "    .dataframe tbody tr th:only-of-type {\n",
       "        vertical-align: middle;\n",
       "    }\n",
       "\n",
       "    .dataframe tbody tr th {\n",
       "        vertical-align: top;\n",
       "    }\n",
       "\n",
       "    .dataframe thead th {\n",
       "        text-align: right;\n",
       "    }\n",
       "</style>\n",
       "<table border=\"1\" class=\"dataframe\">\n",
       "  <thead>\n",
       "    <tr style=\"text-align: right;\">\n",
       "      <th></th>\n",
       "      <th>Month_Invoiced</th>\n",
       "      <th>Customer_Id</th>\n",
       "      <th>Invoice_Id</th>\n",
       "      <th>Subscription_Type</th>\n",
       "      <th>Amount</th>\n",
       "    </tr>\n",
       "  </thead>\n",
       "  <tbody>\n",
       "    <tr>\n",
       "      <th>0</th>\n",
       "      <td>2014-01-31</td>\n",
       "      <td>1000000</td>\n",
       "      <td>5000000</td>\n",
       "      <td>0.0</td>\n",
       "      <td>0.0</td>\n",
       "    </tr>\n",
       "    <tr>\n",
       "      <th>1</th>\n",
       "      <td>2014-01-31</td>\n",
       "      <td>1000001</td>\n",
       "      <td>5000001</td>\n",
       "      <td>2.0</td>\n",
       "      <td>10.0</td>\n",
       "    </tr>\n",
       "    <tr>\n",
       "      <th>2</th>\n",
       "      <td>2014-01-31</td>\n",
       "      <td>1000002</td>\n",
       "      <td>5000002</td>\n",
       "      <td>0.0</td>\n",
       "      <td>0.0</td>\n",
       "    </tr>\n",
       "    <tr>\n",
       "      <th>3</th>\n",
       "      <td>2014-01-31</td>\n",
       "      <td>1000003</td>\n",
       "      <td>5000003</td>\n",
       "      <td>0.0</td>\n",
       "      <td>0.0</td>\n",
       "    </tr>\n",
       "    <tr>\n",
       "      <th>4</th>\n",
       "      <td>2014-01-31</td>\n",
       "      <td>1000004</td>\n",
       "      <td>5000004</td>\n",
       "      <td>1.0</td>\n",
       "      <td>5.0</td>\n",
       "    </tr>\n",
       "  </tbody>\n",
       "</table>\n",
       "</div>"
      ],
      "text/plain": [
       "  Month_Invoiced  Customer_Id  Invoice_Id  Subscription_Type  Amount\n",
       "0     2014-01-31      1000000     5000000                0.0     0.0\n",
       "1     2014-01-31      1000001     5000001                2.0    10.0\n",
       "2     2014-01-31      1000002     5000002                0.0     0.0\n",
       "3     2014-01-31      1000003     5000003                0.0     0.0\n",
       "4     2014-01-31      1000004     5000004                1.0     5.0"
      ]
     },
     "execution_count": 4,
     "metadata": {},
     "output_type": "execute_result"
    }
   ],
   "source": [
    "df.head()"
   ]
  },
  {
   "cell_type": "markdown",
   "id": "4fb2fc30-9f22-4c3e-a83d-709e647002f6",
   "metadata": {},
   "source": [
    "- Looks like Month_invoiced is the date"
   ]
  },
  {
   "cell_type": "code",
   "execution_count": 5,
   "id": "5299f6ac-af40-4054-93d4-e8276dab93c4",
   "metadata": {},
   "outputs": [
    {
     "name": "stdout",
     "output_type": "stream",
     "text": [
      "<class 'pandas.core.frame.DataFrame'>\n",
      "RangeIndex: 790458 entries, 0 to 790457\n",
      "Data columns (total 5 columns):\n",
      " #   Column             Non-Null Count   Dtype  \n",
      "---  ------             --------------   -----  \n",
      " 0   Month_Invoiced     790458 non-null  object \n",
      " 1   Customer_Id        790458 non-null  int64  \n",
      " 2   Invoice_Id         790458 non-null  int64  \n",
      " 3   Subscription_Type  790458 non-null  float64\n",
      " 4   Amount             790458 non-null  float64\n",
      "dtypes: float64(2), int64(2), object(1)\n",
      "memory usage: 30.2+ MB\n"
     ]
    }
   ],
   "source": [
    "df.info()"
   ]
  },
  {
   "cell_type": "code",
   "execution_count": 7,
   "id": "97a9d252-831c-49be-b809-a0f3c02beb49",
   "metadata": {},
   "outputs": [
    {
     "data": {
      "text/plain": [
       "2014-01-31    20000\n",
       "2014-02-28    19800\n",
       "2014-03-31    19599\n",
       "2014-04-30    19413\n",
       "2014-05-31    19221\n",
       "2014-06-30    19038\n",
       "2014-07-31    18851\n",
       "2014-08-31    18672\n",
       "2014-09-30    18494\n",
       "2014-10-31    18313\n",
       "Name: Month_Invoiced, dtype: int64"
      ]
     },
     "execution_count": 7,
     "metadata": {},
     "output_type": "execute_result"
    }
   ],
   "source": [
    "df.Month_Invoiced.value_counts().head(10)"
   ]
  },
  {
   "cell_type": "markdown",
   "id": "3733aa84-e626-422f-9694-d2c99e49be71",
   "metadata": {},
   "source": [
    "- Need to aggregate based on month\n",
    "- sum up amount\n",
    "- need to check subscription type"
   ]
  },
  {
   "cell_type": "code",
   "execution_count": 16,
   "id": "d27e82dd-b5a5-4a38-b57a-916d46daaf03",
   "metadata": {},
   "outputs": [
    {
     "data": {
      "text/html": [
       "<div>\n",
       "<style scoped>\n",
       "    .dataframe tbody tr th:only-of-type {\n",
       "        vertical-align: middle;\n",
       "    }\n",
       "\n",
       "    .dataframe tbody tr th {\n",
       "        vertical-align: top;\n",
       "    }\n",
       "\n",
       "    .dataframe thead th {\n",
       "        text-align: right;\n",
       "    }\n",
       "</style>\n",
       "<table border=\"1\" class=\"dataframe\">\n",
       "  <thead>\n",
       "    <tr style=\"text-align: right;\">\n",
       "      <th></th>\n",
       "      <th></th>\n",
       "      <th>Month_Invoiced</th>\n",
       "      <th>Customer_Id</th>\n",
       "      <th>Invoice_Id</th>\n",
       "    </tr>\n",
       "    <tr>\n",
       "      <th>Subscription_Type</th>\n",
       "      <th>Amount</th>\n",
       "      <th></th>\n",
       "      <th></th>\n",
       "      <th></th>\n",
       "    </tr>\n",
       "  </thead>\n",
       "  <tbody>\n",
       "    <tr>\n",
       "      <th>0.0</th>\n",
       "      <th>0.0</th>\n",
       "      <td>496410</td>\n",
       "      <td>496410</td>\n",
       "      <td>496410</td>\n",
       "    </tr>\n",
       "    <tr>\n",
       "      <th>1.0</th>\n",
       "      <th>5.0</th>\n",
       "      <td>178212</td>\n",
       "      <td>178212</td>\n",
       "      <td>178212</td>\n",
       "    </tr>\n",
       "    <tr>\n",
       "      <th>2.0</th>\n",
       "      <th>10.0</th>\n",
       "      <td>70706</td>\n",
       "      <td>70706</td>\n",
       "      <td>70706</td>\n",
       "    </tr>\n",
       "    <tr>\n",
       "      <th>3.0</th>\n",
       "      <th>15.0</th>\n",
       "      <td>26474</td>\n",
       "      <td>26474</td>\n",
       "      <td>26474</td>\n",
       "    </tr>\n",
       "    <tr>\n",
       "      <th>4.0</th>\n",
       "      <th>20.0</th>\n",
       "      <td>18656</td>\n",
       "      <td>18656</td>\n",
       "      <td>18656</td>\n",
       "    </tr>\n",
       "  </tbody>\n",
       "</table>\n",
       "</div>"
      ],
      "text/plain": [
       "                          Month_Invoiced  Customer_Id  Invoice_Id\n",
       "Subscription_Type Amount                                         \n",
       "0.0               0.0             496410       496410      496410\n",
       "1.0               5.0             178212       178212      178212\n",
       "2.0               10.0             70706        70706       70706\n",
       "3.0               15.0             26474        26474       26474\n",
       "4.0               20.0             18656        18656       18656"
      ]
     },
     "execution_count": 16,
     "metadata": {},
     "output_type": "execute_result"
    }
   ],
   "source": [
    "df.groupby(by = ['Subscription_Type', 'Amount']).count()"
   ]
  },
  {
   "cell_type": "markdown",
   "id": "54fbe795-48da-4670-97c6-0f777f4b8cef",
   "metadata": {},
   "source": [
    "- looks like each plan is costs the same \n",
    "\n",
    "Plan = Amount\n",
    "\n",
    "0.0 = 0.0\n",
    "\n",
    "1.0 = 5.0\n",
    "\n",
    "2.0 = 10.0\n",
    "\n",
    "3.0 = 15.0\n",
    "\n",
    "4.0 = 20.0"
   ]
  },
  {
   "cell_type": "code",
   "execution_count": 23,
   "id": "9187f222-06e2-4202-a760-1f9a4c3fa70a",
   "metadata": {},
   "outputs": [],
   "source": [
    "# change Month_invoiced to datetime\n",
    "df['Month_Invoiced'] = pd.to_datetime(df.Month_Invoiced)"
   ]
  },
  {
   "cell_type": "code",
   "execution_count": 26,
   "id": "4cfa193c-a86c-4c05-a37f-b035d930cf05",
   "metadata": {},
   "outputs": [],
   "source": [
    "# reset index\n",
    "df = df.set_index('Month_Invoiced')"
   ]
  },
  {
   "cell_type": "code",
   "execution_count": 38,
   "id": "38916359-83d9-436c-9764-e880df3cf4c8",
   "metadata": {},
   "outputs": [],
   "source": [
    "# Resample on sum, select only the amount column and make sure it's a dataframe\n",
    "df1 = df.resample('M').sum()['Amount'].to_frame()"
   ]
  },
  {
   "cell_type": "code",
   "execution_count": 40,
   "id": "70c0509c-48ff-445e-966c-985d0680d791",
   "metadata": {},
   "outputs": [
    {
     "data": {
      "text/html": [
       "<div>\n",
       "<style scoped>\n",
       "    .dataframe tbody tr th:only-of-type {\n",
       "        vertical-align: middle;\n",
       "    }\n",
       "\n",
       "    .dataframe tbody tr th {\n",
       "        vertical-align: top;\n",
       "    }\n",
       "\n",
       "    .dataframe thead th {\n",
       "        text-align: right;\n",
       "    }\n",
       "</style>\n",
       "<table border=\"1\" class=\"dataframe\">\n",
       "  <thead>\n",
       "    <tr style=\"text-align: right;\">\n",
       "      <th></th>\n",
       "      <th>Amount</th>\n",
       "    </tr>\n",
       "    <tr>\n",
       "      <th>Month_Invoiced</th>\n",
       "      <th></th>\n",
       "    </tr>\n",
       "  </thead>\n",
       "  <tbody>\n",
       "    <tr>\n",
       "      <th>2014-01-31</th>\n",
       "      <td>35850.0</td>\n",
       "    </tr>\n",
       "    <tr>\n",
       "      <th>2014-02-28</th>\n",
       "      <td>37190.0</td>\n",
       "    </tr>\n",
       "    <tr>\n",
       "      <th>2014-03-31</th>\n",
       "      <td>38295.0</td>\n",
       "    </tr>\n",
       "    <tr>\n",
       "      <th>2014-04-30</th>\n",
       "      <td>39255.0</td>\n",
       "    </tr>\n",
       "    <tr>\n",
       "      <th>2014-05-31</th>\n",
       "      <td>40355.0</td>\n",
       "    </tr>\n",
       "  </tbody>\n",
       "</table>\n",
       "</div>"
      ],
      "text/plain": [
       "                 Amount\n",
       "Month_Invoiced         \n",
       "2014-01-31      35850.0\n",
       "2014-02-28      37190.0\n",
       "2014-03-31      38295.0\n",
       "2014-04-30      39255.0\n",
       "2014-05-31      40355.0"
      ]
     },
     "execution_count": 40,
     "metadata": {},
     "output_type": "execute_result"
    }
   ],
   "source": [
    "df1.head()"
   ]
  },
  {
   "cell_type": "code",
   "execution_count": null,
   "id": "517c9101-a36a-4690-bbf1-166dcb366c05",
   "metadata": {},
   "outputs": [],
   "source": []
  }
 ],
 "metadata": {
  "kernelspec": {
   "display_name": "Python 3",
   "language": "python",
   "name": "python3"
  },
  "language_info": {
   "codemirror_mode": {
    "name": "ipython",
    "version": 3
   },
   "file_extension": ".py",
   "mimetype": "text/x-python",
   "name": "python",
   "nbconvert_exporter": "python",
   "pygments_lexer": "ipython3",
   "version": "3.8.5"
  }
 },
 "nbformat": 4,
 "nbformat_minor": 5
}
