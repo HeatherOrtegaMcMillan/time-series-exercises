{
 "cells": [
  {
   "cell_type": "markdown",
   "id": "0c20a2ba-f7b3-4190-9c07-c68ff1f7a391",
   "metadata": {},
   "source": [
    "# Modeling Exercises - Time Series"
   ]
  },
  {
   "cell_type": "code",
   "execution_count": 1,
   "id": "c7eb8ef2-8d7c-41c5-82ac-19b52a7fae31",
   "metadata": {},
   "outputs": [],
   "source": [
    "import pandas as pd\n",
    "import numpy as np\n",
    "\n",
    "# visualize \n",
    "import matplotlib.pyplot as plt\n",
    "%matplotlib inline\n",
    "import seaborn as sns\n",
    "\n",
    "\n",
    "# working with dates\n",
    "from datetime import datetime\n",
    "\n",
    "# to evaluated performance using rmse\n",
    "from sklearn.metrics import mean_squared_error\n",
    "from math import sqrt \n",
    "\n",
    "# for tsa \n",
    "import statsmodels.api as sm\n",
    "\n",
    "# holt's linear trend model. \n",
    "from statsmodels.tsa.api import Holt\n",
    "\n",
    "#custom module\n",
    "import prepare as p\n",
    "import acquire_func as a"
   ]
  },
  {
   "cell_type": "markdown",
   "id": "1d7f1745-553d-49c4-ac93-5dbd4c8a28c3",
   "metadata": {},
   "source": [
    "### Exercises\n",
    "The end result of this exercise should be a Jupyter notebook named `model`.\n",
    "\n",
    "Using [saas.csv](https://ds.codeup.com/saas.csv) or log data from API usage or store_item_sales\n",
    "\n",
    "1. Split data (train/test) and resample by any period, except daily, and aggregate using the sum. \n",
    "2. Forecast, plot and evaluate using each of the 4 parametric based methods we discussed:\n",
    "    - Simple Average\n",
    "    - Moving Average\n",
    "    - Holt's Linear Trend Model\n",
    "    - Based on previous year/month/etc., this is up to you.\n",
    "\n",
    "Optional: Using store item demand\n",
    "\n",
    "1. Predict 2018 total **monthly** sales for a single store and/or item by creating a model using prophet.\n",
    "2. Return a dataframe with the month, store_id, y-hat, and the confidence intervals (y-hat lower, y-hat upper).\n",
    "3. Plot the 2018 monthly sales predictions.\n"
   ]
  },
  {
   "cell_type": "markdown",
   "id": "2fbd5e2d-8643-457d-a536-fb45c51f4ff0",
   "metadata": {},
   "source": [
    "----- \n",
    "SaaS - security as a service\n",
    "\n",
    "Amount - is dollar amount\n",
    "\n",
    "subscription_type - is the subscription type the customer has\n",
    "    \n",
    "    - see if subscription type is always the same dollar amount"
   ]
  },
  {
   "cell_type": "code",
   "execution_count": 3,
   "id": "60973afe-1295-4db1-a075-453b50ee35af",
   "metadata": {},
   "outputs": [],
   "source": [
    "df = pd.read_csv('saas.csv')"
   ]
  },
  {
   "cell_type": "code",
   "execution_count": 4,
   "id": "aaa0dba1-6196-4e06-9323-86b26b1de7e9",
   "metadata": {},
   "outputs": [
    {
     "data": {
      "text/html": [
       "<div>\n",
       "<style scoped>\n",
       "    .dataframe tbody tr th:only-of-type {\n",
       "        vertical-align: middle;\n",
       "    }\n",
       "\n",
       "    .dataframe tbody tr th {\n",
       "        vertical-align: top;\n",
       "    }\n",
       "\n",
       "    .dataframe thead th {\n",
       "        text-align: right;\n",
       "    }\n",
       "</style>\n",
       "<table border=\"1\" class=\"dataframe\">\n",
       "  <thead>\n",
       "    <tr style=\"text-align: right;\">\n",
       "      <th></th>\n",
       "      <th>Month_Invoiced</th>\n",
       "      <th>Customer_Id</th>\n",
       "      <th>Invoice_Id</th>\n",
       "      <th>Subscription_Type</th>\n",
       "      <th>Amount</th>\n",
       "    </tr>\n",
       "  </thead>\n",
       "  <tbody>\n",
       "    <tr>\n",
       "      <th>0</th>\n",
       "      <td>2014-01-31</td>\n",
       "      <td>1000000</td>\n",
       "      <td>5000000</td>\n",
       "      <td>0.0</td>\n",
       "      <td>0.0</td>\n",
       "    </tr>\n",
       "    <tr>\n",
       "      <th>1</th>\n",
       "      <td>2014-01-31</td>\n",
       "      <td>1000001</td>\n",
       "      <td>5000001</td>\n",
       "      <td>2.0</td>\n",
       "      <td>10.0</td>\n",
       "    </tr>\n",
       "    <tr>\n",
       "      <th>2</th>\n",
       "      <td>2014-01-31</td>\n",
       "      <td>1000002</td>\n",
       "      <td>5000002</td>\n",
       "      <td>0.0</td>\n",
       "      <td>0.0</td>\n",
       "    </tr>\n",
       "    <tr>\n",
       "      <th>3</th>\n",
       "      <td>2014-01-31</td>\n",
       "      <td>1000003</td>\n",
       "      <td>5000003</td>\n",
       "      <td>0.0</td>\n",
       "      <td>0.0</td>\n",
       "    </tr>\n",
       "    <tr>\n",
       "      <th>4</th>\n",
       "      <td>2014-01-31</td>\n",
       "      <td>1000004</td>\n",
       "      <td>5000004</td>\n",
       "      <td>1.0</td>\n",
       "      <td>5.0</td>\n",
       "    </tr>\n",
       "  </tbody>\n",
       "</table>\n",
       "</div>"
      ],
      "text/plain": [
       "  Month_Invoiced  Customer_Id  Invoice_Id  Subscription_Type  Amount\n",
       "0     2014-01-31      1000000     5000000                0.0     0.0\n",
       "1     2014-01-31      1000001     5000001                2.0    10.0\n",
       "2     2014-01-31      1000002     5000002                0.0     0.0\n",
       "3     2014-01-31      1000003     5000003                0.0     0.0\n",
       "4     2014-01-31      1000004     5000004                1.0     5.0"
      ]
     },
     "execution_count": 4,
     "metadata": {},
     "output_type": "execute_result"
    }
   ],
   "source": [
    "df.head()"
   ]
  },
  {
   "cell_type": "markdown",
   "id": "4fb2fc30-9f22-4c3e-a83d-709e647002f6",
   "metadata": {},
   "source": [
    "- Looks like Month_invoiced is the date"
   ]
  },
  {
   "cell_type": "code",
   "execution_count": 5,
   "id": "5299f6ac-af40-4054-93d4-e8276dab93c4",
   "metadata": {},
   "outputs": [
    {
     "name": "stdout",
     "output_type": "stream",
     "text": [
      "<class 'pandas.core.frame.DataFrame'>\n",
      "RangeIndex: 790458 entries, 0 to 790457\n",
      "Data columns (total 5 columns):\n",
      " #   Column             Non-Null Count   Dtype  \n",
      "---  ------             --------------   -----  \n",
      " 0   Month_Invoiced     790458 non-null  object \n",
      " 1   Customer_Id        790458 non-null  int64  \n",
      " 2   Invoice_Id         790458 non-null  int64  \n",
      " 3   Subscription_Type  790458 non-null  float64\n",
      " 4   Amount             790458 non-null  float64\n",
      "dtypes: float64(2), int64(2), object(1)\n",
      "memory usage: 30.2+ MB\n"
     ]
    }
   ],
   "source": [
    "df.info()"
   ]
  },
  {
   "cell_type": "code",
   "execution_count": 7,
   "id": "97a9d252-831c-49be-b809-a0f3c02beb49",
   "metadata": {},
   "outputs": [
    {
     "data": {
      "text/plain": [
       "2014-01-31    20000\n",
       "2014-02-28    19800\n",
       "2014-03-31    19599\n",
       "2014-04-30    19413\n",
       "2014-05-31    19221\n",
       "2014-06-30    19038\n",
       "2014-07-31    18851\n",
       "2014-08-31    18672\n",
       "2014-09-30    18494\n",
       "2014-10-31    18313\n",
       "Name: Month_Invoiced, dtype: int64"
      ]
     },
     "execution_count": 7,
     "metadata": {},
     "output_type": "execute_result"
    }
   ],
   "source": [
    "df.Month_Invoiced.value_counts().head(10)"
   ]
  },
  {
   "cell_type": "markdown",
   "id": "3733aa84-e626-422f-9694-d2c99e49be71",
   "metadata": {},
   "source": [
    "- Need to aggregate based on month\n",
    "- sum up amount\n",
    "- need to check subscription type"
   ]
  },
  {
   "cell_type": "code",
   "execution_count": 16,
   "id": "d27e82dd-b5a5-4a38-b57a-916d46daaf03",
   "metadata": {},
   "outputs": [
    {
     "data": {
      "text/html": [
       "<div>\n",
       "<style scoped>\n",
       "    .dataframe tbody tr th:only-of-type {\n",
       "        vertical-align: middle;\n",
       "    }\n",
       "\n",
       "    .dataframe tbody tr th {\n",
       "        vertical-align: top;\n",
       "    }\n",
       "\n",
       "    .dataframe thead th {\n",
       "        text-align: right;\n",
       "    }\n",
       "</style>\n",
       "<table border=\"1\" class=\"dataframe\">\n",
       "  <thead>\n",
       "    <tr style=\"text-align: right;\">\n",
       "      <th></th>\n",
       "      <th></th>\n",
       "      <th>Month_Invoiced</th>\n",
       "      <th>Customer_Id</th>\n",
       "      <th>Invoice_Id</th>\n",
       "    </tr>\n",
       "    <tr>\n",
       "      <th>Subscription_Type</th>\n",
       "      <th>Amount</th>\n",
       "      <th></th>\n",
       "      <th></th>\n",
       "      <th></th>\n",
       "    </tr>\n",
       "  </thead>\n",
       "  <tbody>\n",
       "    <tr>\n",
       "      <th>0.0</th>\n",
       "      <th>0.0</th>\n",
       "      <td>496410</td>\n",
       "      <td>496410</td>\n",
       "      <td>496410</td>\n",
       "    </tr>\n",
       "    <tr>\n",
       "      <th>1.0</th>\n",
       "      <th>5.0</th>\n",
       "      <td>178212</td>\n",
       "      <td>178212</td>\n",
       "      <td>178212</td>\n",
       "    </tr>\n",
       "    <tr>\n",
       "      <th>2.0</th>\n",
       "      <th>10.0</th>\n",
       "      <td>70706</td>\n",
       "      <td>70706</td>\n",
       "      <td>70706</td>\n",
       "    </tr>\n",
       "    <tr>\n",
       "      <th>3.0</th>\n",
       "      <th>15.0</th>\n",
       "      <td>26474</td>\n",
       "      <td>26474</td>\n",
       "      <td>26474</td>\n",
       "    </tr>\n",
       "    <tr>\n",
       "      <th>4.0</th>\n",
       "      <th>20.0</th>\n",
       "      <td>18656</td>\n",
       "      <td>18656</td>\n",
       "      <td>18656</td>\n",
       "    </tr>\n",
       "  </tbody>\n",
       "</table>\n",
       "</div>"
      ],
      "text/plain": [
       "                          Month_Invoiced  Customer_Id  Invoice_Id\n",
       "Subscription_Type Amount                                         \n",
       "0.0               0.0             496410       496410      496410\n",
       "1.0               5.0             178212       178212      178212\n",
       "2.0               10.0             70706        70706       70706\n",
       "3.0               15.0             26474        26474       26474\n",
       "4.0               20.0             18656        18656       18656"
      ]
     },
     "execution_count": 16,
     "metadata": {},
     "output_type": "execute_result"
    }
   ],
   "source": [
    "df.groupby(by = ['Subscription_Type', 'Amount']).count()"
   ]
  },
  {
   "cell_type": "markdown",
   "id": "54fbe795-48da-4670-97c6-0f777f4b8cef",
   "metadata": {},
   "source": [
    "- looks like each plan is costs the same \n",
    "\n",
    "Plan = Amount\n",
    "\n",
    "0.0 = 0.0\n",
    "\n",
    "1.0 = 5.0\n",
    "\n",
    "2.0 = 10.0\n",
    "\n",
    "3.0 = 15.0\n",
    "\n",
    "4.0 = 20.0"
   ]
  },
  {
   "cell_type": "code",
   "execution_count": 23,
   "id": "9187f222-06e2-4202-a760-1f9a4c3fa70a",
   "metadata": {},
   "outputs": [],
   "source": [
    "# change Month_invoiced to datetime\n",
    "df['Month_Invoiced'] = pd.to_datetime(df.Month_Invoiced)"
   ]
  },
  {
   "cell_type": "code",
   "execution_count": 26,
   "id": "4cfa193c-a86c-4c05-a37f-b035d930cf05",
   "metadata": {},
   "outputs": [],
   "source": [
    "# reset index\n",
    "df = df.set_index('Month_Invoiced')"
   ]
  },
  {
   "cell_type": "code",
   "execution_count": 45,
   "id": "38916359-83d9-436c-9764-e880df3cf4c8",
   "metadata": {},
   "outputs": [],
   "source": [
    "# Resample on sum, select only the amount column and make sure it's a dataframe\n",
    "df1 = df.resample('M').sum()['Amount'].to_frame()"
   ]
  },
  {
   "cell_type": "code",
   "execution_count": 46,
   "id": "70c0509c-48ff-445e-966c-985d0680d791",
   "metadata": {},
   "outputs": [
    {
     "data": {
      "text/html": [
       "<div>\n",
       "<style scoped>\n",
       "    .dataframe tbody tr th:only-of-type {\n",
       "        vertical-align: middle;\n",
       "    }\n",
       "\n",
       "    .dataframe tbody tr th {\n",
       "        vertical-align: top;\n",
       "    }\n",
       "\n",
       "    .dataframe thead th {\n",
       "        text-align: right;\n",
       "    }\n",
       "</style>\n",
       "<table border=\"1\" class=\"dataframe\">\n",
       "  <thead>\n",
       "    <tr style=\"text-align: right;\">\n",
       "      <th></th>\n",
       "      <th>Amount</th>\n",
       "    </tr>\n",
       "    <tr>\n",
       "      <th>Month_Invoiced</th>\n",
       "      <th></th>\n",
       "    </tr>\n",
       "  </thead>\n",
       "  <tbody>\n",
       "    <tr>\n",
       "      <th>2014-01-31</th>\n",
       "      <td>35850.0</td>\n",
       "    </tr>\n",
       "    <tr>\n",
       "      <th>2014-02-28</th>\n",
       "      <td>37190.0</td>\n",
       "    </tr>\n",
       "    <tr>\n",
       "      <th>2014-03-31</th>\n",
       "      <td>38295.0</td>\n",
       "    </tr>\n",
       "    <tr>\n",
       "      <th>2014-04-30</th>\n",
       "      <td>39255.0</td>\n",
       "    </tr>\n",
       "    <tr>\n",
       "      <th>2014-05-31</th>\n",
       "      <td>40355.0</td>\n",
       "    </tr>\n",
       "  </tbody>\n",
       "</table>\n",
       "</div>"
      ],
      "text/plain": [
       "                 Amount\n",
       "Month_Invoiced         \n",
       "2014-01-31      35850.0\n",
       "2014-02-28      37190.0\n",
       "2014-03-31      38295.0\n",
       "2014-04-30      39255.0\n",
       "2014-05-31      40355.0"
      ]
     },
     "execution_count": 46,
     "metadata": {},
     "output_type": "execute_result"
    }
   ],
   "source": [
    "df1.head()"
   ]
  },
  {
   "cell_type": "code",
   "execution_count": 60,
   "id": "517c9101-a36a-4690-bbf1-166dcb366c05",
   "metadata": {},
   "outputs": [
    {
     "data": {
      "text/plain": [
       "<AxesSubplot:xlabel='Month_Invoiced'>"
      ]
     },
     "execution_count": 60,
     "metadata": {},
     "output_type": "execute_result"
    },
    {
     "data": {
      "image/png": "[encoded data removed]",
      "text/plain": [
       "<Figure size 432x288 with 1 Axes>"
      ]
     },
     "metadata": {
      "needs_background": "light"
     },
     "output_type": "display_data"
    }
   ],
   "source": [
    "df1.plot()"
   ]
  },
  {
   "cell_type": "code",
   "execution_count": 58,
   "id": "19e5436f-ed0f-42fa-961d-732e2d7e5caa",
   "metadata": {},
   "outputs": [
    {
     "data": {
      "text/plain": [
       "<AxesSubplot:xlabel='Month_Invoiced'>"
      ]
     },
     "execution_count": 58,
     "metadata": {},
     "output_type": "execute_result"
    },
    {
     "data": {
      "image/png": "[encoded data removed]",
      "text/plain": [
       "<Figure size 432x288 with 1 Axes>"
      ]
     },
     "metadata": {
      "needs_background": "light"
     },
     "output_type": "display_data"
    }
   ],
   "source": [
    "df.resample('M').mean()[['Subscription_Type', 'Amount']].plot()"
   ]
  },
  {
   "cell_type": "markdown",
   "id": "19584551-e933-41f2-834e-0c88c09e90c3",
   "metadata": {},
   "source": [
    "### Takeaways\n",
    "- Not sure what Kind of trend this is maybe a logarithmic\n",
    "- Not sure where to split this data.\n",
    "- I will do a manual with the last year as the test set\n"
   ]
  },
  {
   "cell_type": "markdown",
   "id": "cad42bfc-2ced-4edd-9670-da73a4f6356a",
   "metadata": {},
   "source": [
    "### Split\n",
    "- Manual \n",
    "- Use the last year (2017) for test set"
   ]
  },
  {
   "cell_type": "code",
   "execution_count": 64,
   "id": "6336f889-6608-460f-a2f6-155f3014c1aa",
   "metadata": {},
   "outputs": [
    {
     "name": "stdout",
     "output_type": "stream",
     "text": [
      "2014-01-31 00:00:00\n",
      "2017-12-31 00:00:00\n"
     ]
    }
   ],
   "source": [
    "print(df1.index.min()) \n",
    "print(df1.index.max())"
   ]
  },
  {
   "cell_type": "code",
   "execution_count": 72,
   "id": "f31fe70c-25bc-4c2e-bfa8-68de41f41464",
   "metadata": {},
   "outputs": [],
   "source": [
    "# set train to everything up through 2016 and test to everything in 2017\n",
    "train = df1[:'2016']\n",
    "test = df1.loc['2017']"
   ]
  },
  {
   "cell_type": "markdown",
   "id": "dd53f029-ec74-46ca-bdfc-cbdc9d018ef6",
   "metadata": {},
   "source": [
    "### Helper Functions "
   ]
  },
  {
   "cell_type": "code",
   "execution_count": 132,
   "id": "1b9b5c7f-a81b-4919-a086-a20d9d41eb63",
   "metadata": {},
   "outputs": [],
   "source": [
    "def evaluate(prediction):\n",
    "    '''\n",
    "    This function will take the actual values of the target_var from validate, \n",
    "    and the predicted values stored in yhat_df, \n",
    "    and compute the rmse, rounding to 0 decimal places. \n",
    "    it will return the rmse. \n",
    "    '''\n",
    "    rmse = round(sqrt(mean_squared_error(train['Amount'], yhat_df[prediction])), 0)\n",
    "    return rmse"
   ]
  },
  {
   "cell_type": "code",
   "execution_count": 133,
   "id": "6f50128c-cd60-42d5-8959-37972981825e",
   "metadata": {},
   "outputs": [],
   "source": [
    "def plot_and_eval(prediction):\n",
    "    '''\n",
    "    This function takes in the target var name (string), and returns a plot\n",
    "    of the values of train for that variable, validate, and the predicted values from yhat_df. \n",
    "    it will als lable the rmse. \n",
    "    '''\n",
    "    plt.figure(figsize = (12,4))\n",
    "    plt.plot(train['Amount'], label='Train', linewidth=1)\n",
    "    plt.plot(test['Amount'], label='Test', linewidth=1)\n",
    "    plt.plot(yhat_df[prediction])\n",
    "    plt.title(prediction)\n",
    "    rmse = evaluate(prediction)\n",
    "    print(prediction, '-- RMSE: {:.0f}'.format(rmse))\n",
    "    plt.show()"
   ]
  },
  {
   "cell_type": "code",
   "execution_count": 141,
   "id": "34daca32-2988-45ea-94ea-f3ff81f95277",
   "metadata": {},
   "outputs": [],
   "source": [
    "# function to store the rmse so that we can compare\n",
    "def append_eval_df(model_type, prediction, eval_df):\n",
    "    '''\n",
    "    this function takes in as arguments the type of model run, and the name of the target variable. \n",
    "    It returns the eval_df with the rmse appended to it for that model and target_var. \n",
    "    '''\n",
    "    rmse = evaluate(prediction)\n",
    "    d = {'model_type': [model_type],\n",
    "        'rmse': [rmse]}\n",
    "    d = pd.DataFrame(d)\n",
    "    return eval_df.append(d, ignore_index = True)"
   ]
  },
  {
   "cell_type": "code",
   "execution_count": 151,
   "id": "4b878d8b-726c-4a9b-9006-2da6669fa572",
   "metadata": {},
   "outputs": [
    {
     "data": {
      "text/html": [
       "<div>\n",
       "<style scoped>\n",
       "    .dataframe tbody tr th:only-of-type {\n",
       "        vertical-align: middle;\n",
       "    }\n",
       "\n",
       "    .dataframe tbody tr th {\n",
       "        vertical-align: top;\n",
       "    }\n",
       "\n",
       "    .dataframe thead th {\n",
       "        text-align: right;\n",
       "    }\n",
       "</style>\n",
       "<table border=\"1\" class=\"dataframe\">\n",
       "  <thead>\n",
       "    <tr style=\"text-align: right;\">\n",
       "      <th></th>\n",
       "      <th>model_type</th>\n",
       "      <th>rmse</th>\n",
       "    </tr>\n",
       "  </thead>\n",
       "  <tbody>\n",
       "  </tbody>\n",
       "</table>\n",
       "</div>"
      ],
      "text/plain": [
       "Empty DataFrame\n",
       "Columns: [model_type, rmse]\n",
       "Index: []"
      ]
     },
     "execution_count": 151,
     "metadata": {},
     "output_type": "execute_result"
    }
   ],
   "source": [
    "metric_df = pd.DataFrame(columns=['model_type', 'rmse'])\n",
    "metric_df"
   ]
  },
  {
   "cell_type": "code",
   "execution_count": 152,
   "id": "2bfee4e7-7465-4029-bd78-3caa99d82d0f",
   "metadata": {},
   "outputs": [],
   "source": [
    "# simple Average\n",
    "\n",
    "# assign mean to predictions dataframe\n",
    "yhat_df = pd.DataFrame({'mean_pred': train['Amount'].mean()}, \n",
    "                      index = train.index)"
   ]
  },
  {
   "cell_type": "code",
   "execution_count": 153,
   "id": "3f58ee51-b9cd-4691-852d-1049ac4026dc",
   "metadata": {},
   "outputs": [
    {
     "data": {
      "text/plain": [
       "Text(0.5, 1.0, 'Mean Prediction')"
      ]
     },
     "execution_count": 153,
     "metadata": {},
     "output_type": "execute_result"
    },
    {
     "data": {
      "image/png": "[encoded data removed]",
      "text/plain": [
       "<Figure size 432x288 with 1 Axes>"
      ]
     },
     "metadata": {
      "needs_background": "light"
     },
     "output_type": "display_data"
    }
   ],
   "source": [
    "plt.plot(train['Amount'])\n",
    "plt.plot(test['Amount'])\n",
    "plt.plot(yhat_df['mean_pred'])\n",
    "plt.title('Mean Prediction')"
   ]
  },
  {
   "cell_type": "code",
   "execution_count": 154,
   "id": "2b47507f-0715-4ae7-9bea-2b540a1db2bc",
   "metadata": {},
   "outputs": [
    {
     "name": "stdout",
     "output_type": "stream",
     "text": [
      "mean_pred -- RMSE: 5131\n"
     ]
    },
    {
     "data": {
      "image/png": "[encoded data removed]",
      "text/plain": [
       "<Figure size 864x288 with 1 Axes>"
      ]
     },
     "metadata": {
      "needs_background": "light"
     },
     "output_type": "display_data"
    }
   ],
   "source": [
    "plot_and_eval('mean_pred')"
   ]
  },
  {
   "cell_type": "code",
   "execution_count": 155,
   "id": "112c9283-5cd5-4102-9ec9-5936991a32fb",
   "metadata": {},
   "outputs": [],
   "source": [
    "metric_df = append_eval_df('Average','mean_pred', metric_df)"
   ]
  },
  {
   "cell_type": "code",
   "execution_count": 156,
   "id": "d02392dc-fcdb-4696-94fb-94277fa4a97a",
   "metadata": {},
   "outputs": [],
   "source": [
    "# moving Average\n",
    "periods = [6, 12, 18, 24, 30, 36]\n",
    "\n",
    "for p in periods: \n",
    "    prediction = round(train['Amount'].rolling(p).mean()[-1], 2)\n",
    "\n",
    "    yhat_df = pd.DataFrame({'Model': prediction},\n",
    "                             index= train.index)\n",
    "\n",
    "    model_type = str(p) + 'd_moving_avg'\n",
    "    \n",
    "    metric_df = append_eval_df(model_type, 'Model', metric_df)"
   ]
  },
  {
   "cell_type": "code",
   "execution_count": 157,
   "id": "c36de8c5-89ee-4f3a-a597-28217f689961",
   "metadata": {},
   "outputs": [
    {
     "data": {
      "text/html": [
       "<div>\n",
       "<style scoped>\n",
       "    .dataframe tbody tr th:only-of-type {\n",
       "        vertical-align: middle;\n",
       "    }\n",
       "\n",
       "    .dataframe tbody tr th {\n",
       "        vertical-align: top;\n",
       "    }\n",
       "\n",
       "    .dataframe thead th {\n",
       "        text-align: right;\n",
       "    }\n",
       "</style>\n",
       "<table border=\"1\" class=\"dataframe\">\n",
       "  <thead>\n",
       "    <tr style=\"text-align: right;\">\n",
       "      <th></th>\n",
       "      <th>model_type</th>\n",
       "      <th>rmse</th>\n",
       "    </tr>\n",
       "  </thead>\n",
       "  <tbody>\n",
       "    <tr>\n",
       "      <th>0</th>\n",
       "      <td>Average</td>\n",
       "      <td>5131.0</td>\n",
       "    </tr>\n",
       "    <tr>\n",
       "      <th>1</th>\n",
       "      <td>6d_moving_avg</td>\n",
       "      <td>7281.0</td>\n",
       "    </tr>\n",
       "    <tr>\n",
       "      <th>2</th>\n",
       "      <td>12d_moving_avg</td>\n",
       "      <td>6956.0</td>\n",
       "    </tr>\n",
       "    <tr>\n",
       "      <th>3</th>\n",
       "      <td>18d_moving_avg</td>\n",
       "      <td>6598.0</td>\n",
       "    </tr>\n",
       "    <tr>\n",
       "      <th>4</th>\n",
       "      <td>24d_moving_avg</td>\n",
       "      <td>6045.0</td>\n",
       "    </tr>\n",
       "    <tr>\n",
       "      <th>5</th>\n",
       "      <td>30d_moving_avg</td>\n",
       "      <td>5452.0</td>\n",
       "    </tr>\n",
       "    <tr>\n",
       "      <th>6</th>\n",
       "      <td>36d_moving_avg</td>\n",
       "      <td>5131.0</td>\n",
       "    </tr>\n",
       "  </tbody>\n",
       "</table>\n",
       "</div>"
      ],
      "text/plain": [
       "       model_type    rmse\n",
       "0         Average  5131.0\n",
       "1   6d_moving_avg  7281.0\n",
       "2  12d_moving_avg  6956.0\n",
       "3  18d_moving_avg  6598.0\n",
       "4  24d_moving_avg  6045.0\n",
       "5  30d_moving_avg  5452.0\n",
       "6  36d_moving_avg  5131.0"
      ]
     },
     "execution_count": 157,
     "metadata": {},
     "output_type": "execute_result"
    }
   ],
   "source": [
    "metric_df"
   ]
  },
  {
   "cell_type": "code",
   "execution_count": 158,
   "id": "82a7046e-0673-4e82-8be4-b04d2fd0b64e",
   "metadata": {},
   "outputs": [],
   "source": [
    "# holt's\n",
    "import statsmodels.api as sm"
   ]
  },
  {
   "cell_type": "code",
   "execution_count": 162,
   "id": "2cea10ae-9f4d-41f1-9062-368df13118f9",
   "metadata": {},
   "outputs": [
    {
     "name": "stderr",
     "output_type": "stream",
     "text": [
      "<ipython-input-162-fc13e0744a57>:3: FutureWarning: the 'damped'' keyword is deprecated, use 'damped_trend' instead\n",
      "  model = Holt(train[col], exponential=False, damped=True)\n",
      "/opt/homebrew/anaconda3/lib/python3.8/site-packages/statsmodels/tsa/holtwinters/model.py:427: FutureWarning: After 0.13 initialization must be handled at model creation\n",
      "  warnings.warn(\n"
     ]
    }
   ],
   "source": [
    "col = 'Amount'\n",
    "# create the Holt object \n",
    "model = Holt(train[col], exponential=False, damped=True)\n",
    "# fit the model \n",
    "model = model.fit(optimized=True)\n",
    "# make predictions for each date in validate \n",
    "yhat_items = model.predict(start = train.index[0],\n",
    "                           end = train.index[-1])\n",
    "# add predictions to yhat_df\n",
    "yhat_df[col] = round(yhat_items, 2)"
   ]
  },
  {
   "cell_type": "code",
   "execution_count": 164,
   "id": "c40f3a4e-cb07-45bc-ab78-4a57d57a5cfe",
   "metadata": {},
   "outputs": [
    {
     "name": "stdout",
     "output_type": "stream",
     "text": [
      "Amount -- RMSE: 224\n"
     ]
    },
    {
     "data": {
      "image/png": "[encoded data removed]",
      "text/plain": [
       "<Figure size 864x288 with 1 Axes>"
      ]
     },
     "metadata": {
      "needs_background": "light"
     },
     "output_type": "display_data"
    }
   ],
   "source": [
    "plot_and_eval('Amount')"
   ]
  },
  {
   "cell_type": "markdown",
   "id": "bda457f2-33d4-433d-a3b8-ad88f022498a",
   "metadata": {},
   "source": [
    "### Takeaways\n",
    "- Wasn't sure how to split this data into train validate and test\n",
    "- So I'll need to revisit the function to make them work with just test\n",
    "- Not finding a clear seasonal pattern in this data threw me off in this regard\n",
    "- Will revisit to try and split in a different way. "
   ]
  },
  {
   "cell_type": "code",
   "execution_count": 76,
   "id": "1dab98b8-1884-4c46-8dfa-26b75bf5c711",
   "metadata": {},
   "outputs": [],
   "source": [
    "# based on last year"
   ]
  },
  {
   "cell_type": "code",
   "execution_count": null,
   "id": "2b1c5075-f163-4cb2-b34b-67e983769fc1",
   "metadata": {},
   "outputs": [],
   "source": []
  }
 ],
 "metadata": {
  "kernelspec": {
   "display_name": "Python 3",
   "language": "python",
   "name": "python3"
  },
  "language_info": {
   "codemirror_mode": {
    "name": "ipython",
    "version": 3
   },
   "file_extension": ".py",
   "mimetype": "text/x-python",
   "name": "python",
   "nbconvert_exporter": "python",
   "pygments_lexer": "ipython3",
   "version": "3.8.5"
  }
 },
 "nbformat": 4,
 "nbformat_minor": 5
}
